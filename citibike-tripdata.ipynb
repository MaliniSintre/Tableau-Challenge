{
 "cells": [
  {
   "cell_type": "code",
   "execution_count": 1,
   "metadata": {},
   "outputs": [],
   "source": [
    "# Import dependencies\n",
    "import pandas as pd\n"
   ]
  },
  {
   "attachments": {},
   "cell_type": "markdown",
   "metadata": {},
   "source": [
    "### Extract the Data"
   ]
  },
  {
   "cell_type": "code",
   "execution_count": 2,
   "metadata": {},
   "outputs": [
    {
     "name": "stderr",
     "output_type": "stream",
     "text": [
      "C:\\Users\\malin\\AppData\\Local\\Temp\\ipykernel_36720\\1002785355.py:2: UserWarning: Parsing dates in %Y-%m-%d %H:%M:%S format when dayfirst=True was specified. Pass `dayfirst=False` or specify a format to silence this warning.\n",
      "  data_jan_24 = pd.read_csv(\"Resources/JC-202401-citibike-tripdata.csv\", header=0, parse_dates=[\"started_at\", \"ended_at\"], dayfirst=True)\n",
      "C:\\Users\\malin\\AppData\\Local\\Temp\\ipykernel_36720\\1002785355.py:2: UserWarning: Parsing dates in %Y-%m-%d %H:%M:%S format when dayfirst=True was specified. Pass `dayfirst=False` or specify a format to silence this warning.\n",
      "  data_jan_24 = pd.read_csv(\"Resources/JC-202401-citibike-tripdata.csv\", header=0, parse_dates=[\"started_at\", \"ended_at\"], dayfirst=True)\n",
      "C:\\Users\\malin\\AppData\\Local\\Temp\\ipykernel_36720\\1002785355.py:4: UserWarning: Parsing dates in %Y-%m-%d %H:%M:%S format when dayfirst=True was specified. Pass `dayfirst=False` or specify a format to silence this warning.\n",
      "  data_mar_24 = pd.read_csv(\"Resources/JC-202403-citibike-tripdata.csv\", header=0, parse_dates=[\"started_at\", \"ended_at\"], dayfirst=True)\n",
      "C:\\Users\\malin\\AppData\\Local\\Temp\\ipykernel_36720\\1002785355.py:4: UserWarning: Parsing dates in %Y-%m-%d %H:%M:%S format when dayfirst=True was specified. Pass `dayfirst=False` or specify a format to silence this warning.\n",
      "  data_mar_24 = pd.read_csv(\"Resources/JC-202403-citibike-tripdata.csv\", header=0, parse_dates=[\"started_at\", \"ended_at\"], dayfirst=True)\n"
     ]
    }
   ],
   "source": [
    "# Read the data into Pandas DataFrames with explicit date format\n",
    "data_jan_24 = pd.read_csv(\"Resources/JC-202401-citibike-tripdata.csv\", header=0, parse_dates=[\"started_at\", \"ended_at\"], dayfirst=True)\n",
    "data_feb_24 = pd.read_csv(\"Resources/JC-202402-citibike-tripdata.csv\", header=0, parse_dates=[\"started_at\", \"ended_at\"], dayfirst=True)\n",
    "data_mar_24 = pd.read_csv(\"Resources/JC-202403-citibike-tripdata.csv\", header=0, parse_dates=[\"started_at\", \"ended_at\"], dayfirst=True)"
   ]
  },
  {
   "cell_type": "code",
   "execution_count": 3,
   "metadata": {},
   "outputs": [
    {
     "name": "stdout",
     "output_type": "stream",
     "text": [
      "<class 'pandas.core.frame.DataFrame'>\n",
      "RangeIndex: 171276 entries, 0 to 171275\n",
      "Data columns (total 13 columns):\n",
      " #   Column              Non-Null Count   Dtype  \n",
      "---  ------              --------------   -----  \n",
      " 0   ride_id             171276 non-null  object \n",
      " 1   rideable_type       171276 non-null  object \n",
      " 2   started_at          171276 non-null  object \n",
      " 3   ended_at            171276 non-null  object \n",
      " 4   start_station_name  171276 non-null  object \n",
      " 5   start_station_id    171276 non-null  object \n",
      " 6   end_station_name    171276 non-null  object \n",
      " 7   end_station_id      171276 non-null  object \n",
      " 8   start_lat           171276 non-null  float64\n",
      " 9   start_lng           171276 non-null  float64\n",
      " 10  end_lat             171276 non-null  float64\n",
      " 11  end_lng             171276 non-null  float64\n",
      " 12  member_casual       171276 non-null  object \n",
      "dtypes: float64(4), object(9)\n",
      "memory usage: 17.0+ MB\n"
     ]
    }
   ],
   "source": [
    "# Merge the DataFrames\n",
    "merged_data = pd.concat([data_jan_24, data_feb_24, data_mar_24])\n",
    "\n",
    "# Drop rows with missing values\n",
    "merged_data.dropna(inplace=True)\n",
    "\n",
    "# Reset index\n",
    "merged_data.reset_index(drop=True, inplace=True)\n",
    "\n",
    "merged_data.info()"
   ]
  },
  {
   "cell_type": "code",
   "execution_count": 4,
   "metadata": {},
   "outputs": [],
   "source": [
    "# Export the merged DataFrame to a CSV file\n",
    "merged_data.to_csv(\"Resources/citibike-tripdata-Q1-2024.csv\", index=False)"
   ]
  }
 ],
 "metadata": {
  "kernelspec": {
   "display_name": "Python 3 (ipykernel)",
   "language": "python",
   "name": "python3"
  },
  "language_info": {
   "codemirror_mode": {
    "name": "ipython",
    "version": 3
   },
   "file_extension": ".py",
   "mimetype": "text/x-python",
   "name": "python",
   "nbconvert_exporter": "python",
   "pygments_lexer": "ipython3",
   "version": "3.10.13"
  }
 },
 "nbformat": 4,
 "nbformat_minor": 4
}
